{
 "cells": [
  {
   "cell_type": "code",
   "execution_count": null,
   "id": "19eadc01-826e-4ab7-877f-33b1e618d947",
   "metadata": {},
   "outputs": [],
   "source": [
    "import pandas as pd\n",
    "import yfinance as yf\n",
    "import matplotlib.pyplot as plt\n",
    "import statsmodels.formula.api as sm\n",
    "import numpy as np"
   ]
  },
  {
   "cell_type": "code",
   "execution_count": null,
   "id": "d14e5ec2",
   "metadata": {},
   "outputs": [],
   "source": [
    "Stock_A = \"SPLG\"\n",
    "Stock_B = \"SPY\"\n",
    "stocks = [Stock_A,Stock_B]"
   ]
  },
  {
   "cell_type": "code",
   "execution_count": null,
   "id": "9f83e83c",
   "metadata": {},
   "outputs": [],
   "source": [
    "StockPrices = yf.download(stocks,\"2024-01-01\",\"2025-01-01\",interval=\"1h\")['Close']\n",
    "StockPrices.dropna(inplace=True)\n"
   ]
  },
  {
   "cell_type": "code",
   "execution_count": null,
   "id": "b0df8e7c",
   "metadata": {},
   "outputs": [],
   "source": [
    "StockPrices.corr()"
   ]
  },
  {
   "cell_type": "code",
   "execution_count": null,
   "id": "a8a850d7",
   "metadata": {},
   "outputs": [],
   "source": [
    "StockPrices['Rt']=StockPrices[Stock_A]/StockPrices[Stock_B]\n",
    "StockPrices['Rt1']=StockPrices['Rt'].shift(1)\n",
    "StockPrices['DeltaRt']=StockPrices['Rt']-StockPrices['Rt1']\n",
    "StockPrices"
   ]
  },
  {
   "cell_type": "code",
   "execution_count": null,
   "id": "24d30617",
   "metadata": {},
   "outputs": [],
   "source": [
    "StockPrices = StockPrices.dropna()\n",
    "StockPrices"
   ]
  },
  {
   "cell_type": "code",
   "execution_count": null,
   "id": "54f98f62",
   "metadata": {},
   "outputs": [],
   "source": [
    "model=sm.ols(data=StockPrices, formula=\"DeltaRt ~ Rt1\").fit(cov_type='HC3') \n",
    "model.summary() "
   ]
  },
  {
   "cell_type": "code",
   "execution_count": null,
   "id": "8611e09c",
   "metadata": {},
   "outputs": [],
   "source": [
    "c=model.params[0]\n",
    "c"
   ]
  },
  {
   "cell_type": "code",
   "execution_count": null,
   "id": "01a4afdb",
   "metadata": {},
   "outputs": [],
   "source": [
    "d = -model.params[1]\n",
    "d"
   ]
  },
  {
   "cell_type": "code",
   "execution_count": null,
   "id": "cfb3b3b9",
   "metadata": {},
   "outputs": [],
   "source": [
    "NewStockPrices=yf.download(stocks,\"2025-01-01\",\"2025-06-14\",interval=\"1h\")['Close']\n",
    "NewStockPrices.dropna(inplace=True)\n"
   ]
  },
  {
   "cell_type": "code",
   "execution_count": null,
   "id": "68acd6f5",
   "metadata": {},
   "outputs": [],
   "source": [
    "NewStockPrices['Rt']=NewStockPrices[Stock_A]/NewStockPrices[Stock_B]\n",
    "NewStockPrices['Rt1']=NewStockPrices['Rt'].shift(1)\n",
    "NewStockPrices['DeltaRt']=NewStockPrices['Rt']-NewStockPrices['Rt1']\n",
    "NewStockPrices = NewStockPrices.dropna()\n",
    "NewStockPrices"
   ]
  },
  {
   "cell_type": "code",
   "execution_count": null,
   "id": "2b58c522",
   "metadata": {},
   "outputs": [],
   "source": [
    "threshold = c / d\n",
    "NewStockPrices['A_Position'] = 0\n",
    "NewStockPrices['B_Position'] = 0\n",
    "NewStockPrices['Portfolio_Value']=0\n",
    "NewStockPrices['Delta_A_Position'] = 0\n",
    "NewStockPrices['Delta_B_Position'] = 0\n",
    "NewStockPrices['Cash_Position'] = 0\n",
    "NewStockPrices['Cash_Flow'] = 0\n",
    "NewStockPrices['Cumulative_Number_of_transaction'] = 0\n",
    "threshold"
   ]
  },
  {
   "cell_type": "code",
   "execution_count": null,
   "id": "db79f4f7",
   "metadata": {},
   "outputs": [],
   "source": [
    "for i in range(1, len(NewStockPrices)):\n",
    "    Rt = NewStockPrices['Rt'].iloc[i]\n",
    "\n",
    "    if Rt > threshold and NewStockPrices['A_Position'].iloc[i-1]>=0:\n",
    "        NewStockPrices['A_Position'].iloc[i] = -100/NewStockPrices[Stock_A].iloc[i]\n",
    "        NewStockPrices['B_Position'].iloc[i] = 100/NewStockPrices[Stock_B].iloc[i]\n",
    "    elif Rt < threshold and NewStockPrices['A_Position'].iloc[i-1]<=0:  \n",
    "        NewStockPrices['A_Position'].iloc[i] = 100/NewStockPrices[Stock_A].iloc[i]\n",
    "        NewStockPrices['B_Position'].iloc[i] = -100/NewStockPrices[Stock_B].iloc[i]\n",
    "    else:\n",
    "        NewStockPrices['A_Position'].iloc[i] = NewStockPrices['A_Position'].iloc[i-1]  # Hold position\n",
    "        NewStockPrices['B_Position'].iloc[i] = NewStockPrices['B_Position'].iloc[i-1]  \n",
    "    \n",
    "\n",
    "    NewStockPrices['Delta_A_Position'].iloc[i] = NewStockPrices['A_Position'].iloc[i] - NewStockPrices['A_Position'].iloc[i-1]\n",
    "    NewStockPrices['Delta_B_Position'].iloc[i] = NewStockPrices['B_Position'].iloc[i] - NewStockPrices['B_Position'].iloc[i-1]\n",
    "    \n",
    "\n",
    "    if NewStockPrices['A_Position'].iloc[i] != NewStockPrices['A_Position'].iloc[i-1]:\n",
    "        NewStockPrices['Cash_Position'].iloc[i] = (NewStockPrices['Delta_A_Position'].iloc[i] * -NewStockPrices[Stock_A].iloc[i]) + (NewStockPrices['Delta_B_Position'].iloc[i] * -NewStockPrices[Stock_B].iloc[i]) + NewStockPrices['Cash_Position'].iloc[i-1]\n",
    "    else:\n",
    "        NewStockPrices['Cash_Position'].iloc[i] = NewStockPrices['Cash_Position'].iloc[i-1]\n",
    "                             \n",
    "\n",
    "    NewStockPrices['Portfolio_Value'].iloc[i] = (NewStockPrices['A_Position'].iloc[i] * NewStockPrices[Stock_A].iloc[i]) + (NewStockPrices['B_Position'].iloc[i] * NewStockPrices[Stock_B].iloc[i]) + NewStockPrices['Cash_Position'].iloc[i] \n",
    "    \n",
    "    NewStockPrices['Cash_Flow'].iloc[i] = NewStockPrices['Cash_Position'].iloc[i] - NewStockPrices['Cash_Position'].iloc[i-1]\n",
    "\n",
    "    if NewStockPrices['Cash_Flow'].iloc[i] !=0:\n",
    "        NewStockPrices['Cumulative_Number_of_transaction'].iloc[i] = NewStockPrices['Cumulative_Number_of_transaction'].iloc[i-1] + 1\n",
    "    else:\n",
    "        NewStockPrices['Cumulative_Number_of_transaction'].iloc[i] = NewStockPrices['Cumulative_Number_of_transaction'].iloc[i-1]\n",
    "                                              \n"
   ]
  },
  {
   "cell_type": "code",
   "execution_count": null,
   "id": "4ae50c4d",
   "metadata": {},
   "outputs": [],
   "source": [
    "NewStockPrices"
   ]
  },
  {
   "cell_type": "code",
   "execution_count": null,
   "id": "9f614271",
   "metadata": {},
   "outputs": [],
   "source": [
    "plt.figure(figsize=(14, 7))\n",
    "plt.plot(NewStockPrices.index, NewStockPrices['Portfolio_Value'], label='Portfolio Value', color='blue')\n",
    "plt.title('Dollar Value of Long-Short Portfolio Over Time')\n",
    "plt.xlabel('Date')\n",
    "plt.ylabel('Portfolio Value')\n",
    "plt.legend()\n",
    "plt.grid(False)\n",
    "plt.show()"
   ]
  },
  {
   "cell_type": "code",
   "execution_count": null,
   "id": "b4360384",
   "metadata": {},
   "outputs": [],
   "source": [
    "plt.figure(figsize=(14, 7))\n",
    "plt.plot(NewStockPrices.index, NewStockPrices['Cash_Flow'], label='Cash Flow', color='blue')\n",
    "plt.title('Cash Flow Over Time')\n",
    "plt.xlabel('Date')\n",
    "plt.ylabel('Cash ')\n",
    "plt.legend()\n",
    "plt.grid(False)\n",
    "plt.show()"
   ]
  },
  {
   "cell_type": "code",
   "execution_count": null,
   "id": "be83b8f3",
   "metadata": {},
   "outputs": [],
   "source": [
    "plt.figure(figsize=(14, 7))\n",
    "plt.plot(NewStockPrices.index, NewStockPrices['Cumulative_Number_of_transaction'], label='Number_of_transaction', color='blue')\n",
    "plt.title('Cumulative_Number_of_transaction Over Time')\n",
    "plt.xlabel('Date')\n",
    "plt.ylabel('Number of Transactions')\n",
    "plt.legend()\n",
    "plt.grid(False)"
   ]
  },
  {
   "cell_type": "code",
   "execution_count": null,
   "id": "30a1974b",
   "metadata": {},
   "outputs": [],
   "source": [
    "returns = NewStockPrices['Portfolio_Value']/NewStockPrices['Portfolio_Value'].shift(1)-1\n",
    "returns.replace([np.inf, -np.inf],np.nan,inplace=True)\n",
    "mu = returns.mean()*252\n",
    "s = returns.std()*252**0.5\n",
    "mu/s"
   ]
  },
  {
   "cell_type": "code",
   "execution_count": null,
   "id": "044d1519",
   "metadata": {},
   "outputs": [],
   "source": [
    "returns"
   ]
  }
 ],
 "metadata": {
  "kernelspec": {
   "display_name": "Python 3",
   "language": "python",
   "name": "python3"
  },
  "language_info": {
   "codemirror_mode": {
    "name": "ipython",
    "version": 3
   },
   "file_extension": ".py",
   "mimetype": "text/x-python",
   "name": "python",
   "nbconvert_exporter": "python",
   "pygments_lexer": "ipython3",
   "version": "3.11.9"
  }
 },
 "nbformat": 4,
 "nbformat_minor": 5
}
